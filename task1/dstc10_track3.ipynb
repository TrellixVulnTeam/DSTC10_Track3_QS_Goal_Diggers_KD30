{
  "nbformat": 4,
  "nbformat_minor": 0,
  "metadata": {
    "colab": {
      "name": "dstc10-track3.ipynb",
      "provenance": [],
      "collapsed_sections": []
    },
    "kernelspec": {
      "name": "python3",
      "display_name": "Python 3"
    },
    "language_info": {
      "name": "python"
    },
    "accelerator": "GPU"
  },
  "cells": [
    {
      "cell_type": "markdown",
      "metadata": {
        "id": "8fnxlkI_3Mxb"
      },
      "source": [
        "#code for task1 & task3"
      ]
    },
    {
      "cell_type": "code",
      "metadata": {
        "id": "KUKue_Q7Iy8h"
      },
      "source": [
        "%tensorflow_version 1.x\n",
        "from google.colab import auth\n",
        "auth.authenticate_user()\n",
        "project_id = 'woven-fountain-288502'\n",
        "!gcloud config set project {project_id}4/uQFWNACaDu4HXj5iBtuZWia5G7YQ3XZ34IEhuPCsQpyME_bHeWq-4gM\n",
        "!gsutil ls gs://tangliang-commit"
      ],
      "execution_count": null,
      "outputs": []
    },
    {
      "cell_type": "code",
      "metadata": {
        "id": "DolYiXeuJZ68"
      },
      "source": [
        "from  google.colab import drive\n",
        "drive.mount('/content/drive')"
      ],
      "execution_count": null,
      "outputs": []
    },
    {
      "cell_type": "code",
      "metadata": {
        "id": "fEahQu4K1ALH"
      },
      "source": [
        "cd /content/drive/MyDrive"
      ],
      "execution_count": null,
      "outputs": []
    },
    {
      "cell_type": "code",
      "metadata": {
        "id": "bmnDqAmN_SPa"
      },
      "source": [
        "cd dstc10/task1/code"
      ],
      "execution_count": null,
      "outputs": []
    },
    {
      "cell_type": "code",
      "metadata": {
        "id": "MOg1hZnGA_IC"
      },
      "source": [
        "!pip install -r requirement.txt"
      ],
      "execution_count": null,
      "outputs": []
    },
    {
      "cell_type": "code",
      "metadata": {
        "id": "6R0tF4W9BESR"
      },
      "source": [
        "import stanza\n",
        "stanza.download('en')"
      ],
      "execution_count": null,
      "outputs": []
    },
    {
      "cell_type": "markdown",
      "metadata": {
        "id": "5LUmC_bf3k8C"
      },
      "source": [
        "#preprocess of step1"
      ]
    },
    {
      "cell_type": "code",
      "metadata": {
        "id": "-gPAk3W0BgkY"
      },
      "source": [
        "!/bin/bash run_step1_preprocess.sh"
      ],
      "execution_count": null,
      "outputs": []
    },
    {
      "cell_type": "code",
      "metadata": {
        "id": "fqhrYfjp23YV"
      },
      "source": [
        "!/bin/bash run_step1_preprocess_teststd.sh"
      ],
      "execution_count": null,
      "outputs": []
    },
    {
      "cell_type": "markdown",
      "metadata": {
        "id": "Nuv4kK7G3roz"
      },
      "source": [
        "#generate feature"
      ]
    },
    {
      "cell_type": "code",
      "metadata": {
        "id": "k_CjnQwYCbvK"
      },
      "source": [
        "!/bin/bash run_step1_feature.sh"
      ],
      "execution_count": null,
      "outputs": []
    },
    {
      "cell_type": "code",
      "metadata": {
        "id": "1gKQDBcC26X1"
      },
      "source": [
        "!/bin/bash run_step1_preprocess_teststd.sh"
      ],
      "execution_count": null,
      "outputs": []
    },
    {
      "cell_type": "markdown",
      "metadata": {
        "id": "G2PvFhPB3xea"
      },
      "source": [
        "#finetune & predict"
      ]
    },
    {
      "cell_type": "code",
      "metadata": {
        "id": "32_OyrhjCgtE"
      },
      "source": [
        "!/bin/bash run_step1_finetune.sh"
      ],
      "execution_count": null,
      "outputs": []
    },
    {
      "cell_type": "code",
      "metadata": {
        "id": "EePnnO1629cu"
      },
      "source": [
        "!/bin/bash run_step1_finetune_teststd.sh"
      ],
      "execution_count": null,
      "outputs": []
    },
    {
      "cell_type": "markdown",
      "metadata": {
        "id": "D0lL1Qm_32AC"
      },
      "source": [
        "embedding & format final result"
      ]
    },
    {
      "cell_type": "code",
      "metadata": {
        "id": "WyQL_26fCjAi"
      },
      "source": [
        "!/bin/bash run_step1_predict.sh"
      ],
      "execution_count": null,
      "outputs": []
    },
    {
      "cell_type": "code",
      "metadata": {
        "id": "0MdVaEuZ2_w8"
      },
      "source": [
        "!/bin/bash run_step1_predict_teststd.sh"
      ],
      "execution_count": null,
      "outputs": []
    },
    {
      "cell_type": "markdown",
      "metadata": {
        "id": "eZazIICY38kK"
      },
      "source": [
        "#same step for step2"
      ]
    },
    {
      "cell_type": "code",
      "metadata": {
        "colab": {
          "base_uri": "https://localhost:8080/"
        },
        "id": "ihImM1AvdsiT",
        "outputId": "33aa19ea-4eae-44ea-c9de-4eb436a2e568"
      },
      "source": [
        "cd ../../task3/code"
      ],
      "execution_count": null,
      "outputs": [
        {
          "output_type": "stream",
          "name": "stdout",
          "text": [
            "/content/drive/My Drive/dstc10/task3/code\n"
          ]
        }
      ]
    },
    {
      "cell_type": "code",
      "metadata": {
        "id": "p52j8ZfVdyLd"
      },
      "source": [
        "!/bin/bash run_step3_preprocess.sh"
      ],
      "execution_count": null,
      "outputs": []
    },
    {
      "cell_type": "code",
      "metadata": {
        "id": "ApnOmNF33CTG"
      },
      "source": [
        "!/bin/bash run_step3_preprocess_teststd.sh"
      ],
      "execution_count": null,
      "outputs": []
    },
    {
      "cell_type": "code",
      "metadata": {
        "id": "y7_8cVekdyLe"
      },
      "source": [
        "!/bin/bash run_step3_feature.sh"
      ],
      "execution_count": null,
      "outputs": []
    },
    {
      "cell_type": "code",
      "metadata": {
        "id": "SJNJxed_3Eul"
      },
      "source": [
        "!/bin/bash run_step3_feature_teststd.sh"
      ],
      "execution_count": null,
      "outputs": []
    },
    {
      "cell_type": "code",
      "metadata": {
        "id": "71RK8whbdyLe"
      },
      "source": [
        "!/bin/bash run_step3_finetune.sh"
      ],
      "execution_count": null,
      "outputs": []
    },
    {
      "cell_type": "code",
      "metadata": {
        "id": "j4iDo3BB3ILk"
      },
      "source": [
        "!/bin/bash run_step3_finetune_teststd.sh"
      ],
      "execution_count": null,
      "outputs": []
    },
    {
      "cell_type": "code",
      "metadata": {
        "id": "kVEYR97PdyLf"
      },
      "source": [
        "!/bin/bash run_step3_predict.sh"
      ],
      "execution_count": null,
      "outputs": []
    },
    {
      "cell_type": "code",
      "metadata": {
        "id": "4-rOXGWB3KU0"
      },
      "source": [
        "!/bin/bash run_step3_predict_teststd.sh"
      ],
      "execution_count": null,
      "outputs": []
    }
  ]
}